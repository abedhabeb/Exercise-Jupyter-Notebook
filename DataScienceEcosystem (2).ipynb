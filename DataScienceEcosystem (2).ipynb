{
 "cells": [
  {
   "cell_type": "markdown",
   "id": "67609a6e-8b4a-4f83-9902-48edfd85930c",
   "metadata": {},
   "source": [
    "# Data Science Tools and Ecosystem"
   ]
  },
  {
   "cell_type": "markdown",
   "id": "9d76e77f-286f-43da-ad9b-9ee331639941",
   "metadata": {},
   "source": [
    "### In this notebook, Data Science Tools and Ecosystem are summarized"
   ]
  },
  {
   "cell_type": "markdown",
   "id": "0592a13e-dde8-4790-ac71-707b53490d35",
   "metadata": {},
   "source": [
    "### **Objectives:**\n",
    "- Python\n",
    "- SQL\n",
    "- R"
   ]
  },
  {
   "cell_type": "markdown",
   "id": "48522868-1dd3-4ef2-8fa2-d44b48d42603",
   "metadata": {},
   "source": [
    "#### Some of the popular languages that Data Scientists use are\n",
    "1. Python\n",
    "2. SQL\n",
    "3. R"
   ]
  },
  {
   "cell_type": "markdown",
   "id": "6e352b3c-e9eb-457c-91ed-d883cc451c50",
   "metadata": {},
   "source": [
    "#### Some of the popular languages that Data Scientists use are: \n",
    "1. Pandas\n",
    "2. NumPy\n",
    "3. TensorFlow\n"
   ]
  },
  {
   "cell_type": "markdown",
   "id": "cfa06aa1-0350-488d-8926-be55607e63e3",
   "metadata": {},
   "source": [
    "\n",
    "|Data Science Tools|\n",
    "|----------|\n",
    "|Jupyter Notebooks|\n",
    "| VS Code|\n",
    "|RStudio|"
   ]
  },
  {
   "cell_type": "markdown",
   "id": "042e2e21-d02b-4119-bb7f-5d374be7b15e",
   "metadata": {},
   "source": [
    "### Below are a few examples of evaluating arithmetic expressions in Python.\r\n"
   ]
  },
  {
   "cell_type": "code",
   "execution_count": 23,
   "id": "1ec0d51d-c169-4535-8b2b-7c95b55601dc",
   "metadata": {},
   "outputs": [
    {
     "data": {
      "text/plain": [
       "17"
      ]
     },
     "execution_count": 23,
     "metadata": {},
     "output_type": "execute_result"
    }
   ],
   "source": [
    "# This a simple arithmetic expression to mutiply then add integers\n",
    "(3*4)+5"
   ]
  },
  {
   "cell_type": "code",
   "execution_count": 25,
   "id": "2e36f6e5-6b3e-4195-88bf-a5fbf4e6aaaa",
   "metadata": {},
   "outputs": [
    {
     "data": {
      "text/plain": [
       "3.3333333333333335"
      ]
     },
     "execution_count": 25,
     "metadata": {},
     "output_type": "execute_result"
    }
   ],
   "source": [
    "# This will convert 200 minutes to hours by diving by 60\n",
    "200/60\n"
   ]
  },
  {
   "cell_type": "markdown",
   "id": "008fbcbb-4746-41c2-9e76-620b59ab6980",
   "metadata": {},
   "source": [
    "## Author \n",
    "my name "
   ]
  }
 ],
 "metadata": {
  "kernelspec": {
   "display_name": "Python 3 (ipykernel)",
   "language": "python",
   "name": "python3"
  },
  "language_info": {
   "codemirror_mode": {
    "name": "ipython",
    "version": 3
   },
   "file_extension": ".py",
   "mimetype": "text/x-python",
   "name": "python",
   "nbconvert_exporter": "python",
   "pygments_lexer": "ipython3",
   "version": "3.12.4"
  }
 },
 "nbformat": 4,
 "nbformat_minor": 5
}
